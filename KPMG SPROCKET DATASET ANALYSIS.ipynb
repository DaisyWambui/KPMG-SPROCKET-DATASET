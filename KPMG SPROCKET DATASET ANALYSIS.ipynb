{
 "cells": [
  {
   "cell_type": "code",
   "execution_count": 2,
   "id": "586f861a",
   "metadata": {},
   "outputs": [],
   "source": [
    "#Importing relevant libraries\n",
    "import numpy as np\n",
    "import pandas as pd\n",
    "import matplotlib.pyplot as plt\n",
    "%matplotlib inline\n",
    "import seaborn as sns\n",
    "\n"
   ]
  },
  {
   "cell_type": "code",
   "execution_count": 3,
   "id": "4ed1fda9",
   "metadata": {},
   "outputs": [
    {
     "name": "stderr",
     "output_type": "stream",
     "text": [
      "C:\\Users\\user\\AppData\\Local\\Temp\\ipykernel_14556\\2327956923.py:4: FutureWarning: Inferring datetime64[ns] from data containing strings is deprecated and will be removed in a future version. To retain the old behavior explicitly pass Series(data, dtype=datetime64[ns])\n",
      "  customerdemo=pd.read_excel('customerdemographic.xlsx')\n"
     ]
    }
   ],
   "source": [
    "#Uploading datasets into the workspace\n",
    "customeraddress=pd.read_excel('customeraddresses.xlsx')\n",
    "transactions=pd.read_excel('transactionss.xlsx')\n",
    "customerdemo=pd.read_excel('customerdemographic.xlsx')"
   ]
  },
  {
   "cell_type": "markdown",
   "id": "076adc1b",
   "metadata": {},
   "source": [
    "<h2>Visual assessment"
   ]
  },
  {
   "cell_type": "code",
   "execution_count": 5,
   "id": "9867f5e2",
   "metadata": {},
   "outputs": [
    {
     "data": {
      "text/html": [
       "<div>\n",
       "<style scoped>\n",
       "    .dataframe tbody tr th:only-of-type {\n",
       "        vertical-align: middle;\n",
       "    }\n",
       "\n",
       "    .dataframe tbody tr th {\n",
       "        vertical-align: top;\n",
       "    }\n",
       "\n",
       "    .dataframe thead th {\n",
       "        text-align: right;\n",
       "    }\n",
       "</style>\n",
       "<table border=\"1\" class=\"dataframe\">\n",
       "  <thead>\n",
       "    <tr style=\"text-align: right;\">\n",
       "      <th></th>\n",
       "      <th>transaction_id</th>\n",
       "      <th>product_id</th>\n",
       "      <th>customer_id</th>\n",
       "      <th>transaction_date</th>\n",
       "      <th>online_order</th>\n",
       "      <th>order_status</th>\n",
       "      <th>brand</th>\n",
       "      <th>product_line</th>\n",
       "      <th>product_class</th>\n",
       "      <th>product_size</th>\n",
       "      <th>list_price</th>\n",
       "      <th>standard_cost</th>\n",
       "      <th>product_first_sold_date</th>\n",
       "    </tr>\n",
       "  </thead>\n",
       "  <tbody>\n",
       "    <tr>\n",
       "      <th>4919</th>\n",
       "      <td>4920</td>\n",
       "      <td>30</td>\n",
       "      <td>581</td>\n",
       "      <td>2017-08-21</td>\n",
       "      <td>1.0</td>\n",
       "      <td>Approved</td>\n",
       "      <td>Solex</td>\n",
       "      <td>Standard</td>\n",
       "      <td>high</td>\n",
       "      <td>medium</td>\n",
       "      <td>748.17</td>\n",
       "      <td>448.90</td>\n",
       "      <td>34527.0</td>\n",
       "    </tr>\n",
       "    <tr>\n",
       "      <th>8081</th>\n",
       "      <td>8082</td>\n",
       "      <td>40</td>\n",
       "      <td>1161</td>\n",
       "      <td>2017-06-16</td>\n",
       "      <td>1.0</td>\n",
       "      <td>Approved</td>\n",
       "      <td>OHM Cycles</td>\n",
       "      <td>Standard</td>\n",
       "      <td>high</td>\n",
       "      <td>medium</td>\n",
       "      <td>1458.17</td>\n",
       "      <td>874.90</td>\n",
       "      <td>38750.0</td>\n",
       "    </tr>\n",
       "    <tr>\n",
       "      <th>15017</th>\n",
       "      <td>15018</td>\n",
       "      <td>55</td>\n",
       "      <td>1245</td>\n",
       "      <td>2017-02-02</td>\n",
       "      <td>1.0</td>\n",
       "      <td>Approved</td>\n",
       "      <td>Trek Bicycles</td>\n",
       "      <td>Road</td>\n",
       "      <td>medium</td>\n",
       "      <td>large</td>\n",
       "      <td>1894.19</td>\n",
       "      <td>598.76</td>\n",
       "      <td>37823.0</td>\n",
       "    </tr>\n",
       "    <tr>\n",
       "      <th>1340</th>\n",
       "      <td>1341</td>\n",
       "      <td>39</td>\n",
       "      <td>1533</td>\n",
       "      <td>2017-09-17</td>\n",
       "      <td>0.0</td>\n",
       "      <td>Approved</td>\n",
       "      <td>Giant Bicycles</td>\n",
       "      <td>Standard</td>\n",
       "      <td>medium</td>\n",
       "      <td>large</td>\n",
       "      <td>1812.75</td>\n",
       "      <td>582.48</td>\n",
       "      <td>35560.0</td>\n",
       "    </tr>\n",
       "    <tr>\n",
       "      <th>18449</th>\n",
       "      <td>18450</td>\n",
       "      <td>42</td>\n",
       "      <td>1950</td>\n",
       "      <td>2017-08-09</td>\n",
       "      <td>1.0</td>\n",
       "      <td>Approved</td>\n",
       "      <td>OHM Cycles</td>\n",
       "      <td>Road</td>\n",
       "      <td>medium</td>\n",
       "      <td>small</td>\n",
       "      <td>1810.00</td>\n",
       "      <td>1610.90</td>\n",
       "      <td>40672.0</td>\n",
       "    </tr>\n",
       "  </tbody>\n",
       "</table>\n",
       "</div>"
      ],
      "text/plain": [
       "       transaction_id  product_id  customer_id transaction_date  online_order  \\\n",
       "4919             4920          30          581       2017-08-21           1.0   \n",
       "8081             8082          40         1161       2017-06-16           1.0   \n",
       "15017           15018          55         1245       2017-02-02           1.0   \n",
       "1340             1341          39         1533       2017-09-17           0.0   \n",
       "18449           18450          42         1950       2017-08-09           1.0   \n",
       "\n",
       "      order_status           brand product_line product_class product_size  \\\n",
       "4919      Approved           Solex     Standard          high       medium   \n",
       "8081      Approved      OHM Cycles     Standard          high       medium   \n",
       "15017     Approved   Trek Bicycles         Road        medium        large   \n",
       "1340      Approved  Giant Bicycles     Standard        medium        large   \n",
       "18449     Approved      OHM Cycles         Road        medium        small   \n",
       "\n",
       "       list_price  standard_cost  product_first_sold_date  \n",
       "4919       748.17         448.90                  34527.0  \n",
       "8081      1458.17         874.90                  38750.0  \n",
       "15017     1894.19         598.76                  37823.0  \n",
       "1340      1812.75         582.48                  35560.0  \n",
       "18449     1810.00        1610.90                  40672.0  "
      ]
     },
     "execution_count": 5,
     "metadata": {},
     "output_type": "execute_result"
    }
   ],
   "source": [
    "transactions.sample(5)"
   ]
  },
  {
   "cell_type": "code",
   "execution_count": 6,
   "id": "6feddfff",
   "metadata": {},
   "outputs": [
    {
     "data": {
      "text/plain": [
       "(20000, 13)"
      ]
     },
     "execution_count": 6,
     "metadata": {},
     "output_type": "execute_result"
    }
   ],
   "source": [
    "transactions.shape"
   ]
  },
  {
   "cell_type": "code",
   "execution_count": 7,
   "id": "d064f6fd",
   "metadata": {},
   "outputs": [
    {
     "name": "stdout",
     "output_type": "stream",
     "text": [
      "<class 'pandas.core.frame.DataFrame'>\n",
      "RangeIndex: 20000 entries, 0 to 19999\n",
      "Data columns (total 13 columns):\n",
      " #   Column                   Non-Null Count  Dtype         \n",
      "---  ------                   --------------  -----         \n",
      " 0   transaction_id           20000 non-null  int64         \n",
      " 1   product_id               20000 non-null  int64         \n",
      " 2   customer_id              20000 non-null  int64         \n",
      " 3   transaction_date         20000 non-null  datetime64[ns]\n",
      " 4   online_order             19640 non-null  float64       \n",
      " 5   order_status             20000 non-null  object        \n",
      " 6   brand                    19803 non-null  object        \n",
      " 7   product_line             19803 non-null  object        \n",
      " 8   product_class            19803 non-null  object        \n",
      " 9   product_size             19803 non-null  object        \n",
      " 10  list_price               20000 non-null  float64       \n",
      " 11  standard_cost            19803 non-null  float64       \n",
      " 12  product_first_sold_date  19803 non-null  float64       \n",
      "dtypes: datetime64[ns](1), float64(4), int64(3), object(5)\n",
      "memory usage: 2.0+ MB\n"
     ]
    }
   ],
   "source": [
    "transactions.info()"
   ]
  },
  {
   "cell_type": "code",
   "execution_count": 8,
   "id": "231b43e0",
   "metadata": {},
   "outputs": [
    {
     "data": {
      "text/plain": [
       "transaction_id                      int64\n",
       "product_id                          int64\n",
       "customer_id                         int64\n",
       "transaction_date           datetime64[ns]\n",
       "online_order                      float64\n",
       "order_status                       object\n",
       "brand                              object\n",
       "product_line                       object\n",
       "product_class                      object\n",
       "product_size                       object\n",
       "list_price                        float64\n",
       "standard_cost                     float64\n",
       "product_first_sold_date           float64\n",
       "dtype: object"
      ]
     },
     "execution_count": 8,
     "metadata": {},
     "output_type": "execute_result"
    }
   ],
   "source": [
    "transactions.dtypes"
   ]
  },
  {
   "cell_type": "code",
   "execution_count": 9,
   "id": "26ec1060",
   "metadata": {},
   "outputs": [
    {
     "data": {
      "text/plain": [
       "0"
      ]
     },
     "execution_count": 9,
     "metadata": {},
     "output_type": "execute_result"
    }
   ],
   "source": [
    "sum(transactions.duplicated())"
   ]
  },
  {
   "cell_type": "code",
   "execution_count": 11,
   "id": "c3aa8660",
   "metadata": {},
   "outputs": [
    {
     "data": {
      "text/plain": [
       "transaction_id               0\n",
       "product_id                   0\n",
       "customer_id                  0\n",
       "transaction_date             0\n",
       "online_order               360\n",
       "order_status                 0\n",
       "brand                      197\n",
       "product_line               197\n",
       "product_class              197\n",
       "product_size               197\n",
       "list_price                   0\n",
       "standard_cost              197\n",
       "product_first_sold_date    197\n",
       "dtype: int64"
      ]
     },
     "execution_count": 11,
     "metadata": {},
     "output_type": "execute_result"
    }
   ],
   "source": [
    "transactions.isna().sum()"
   ]
  },
  {
   "cell_type": "code",
   "execution_count": 12,
   "id": "f9e9f69e",
   "metadata": {},
   "outputs": [
    {
     "data": {
      "text/html": [
       "<div>\n",
       "<style scoped>\n",
       "    .dataframe tbody tr th:only-of-type {\n",
       "        vertical-align: middle;\n",
       "    }\n",
       "\n",
       "    .dataframe tbody tr th {\n",
       "        vertical-align: top;\n",
       "    }\n",
       "\n",
       "    .dataframe thead th {\n",
       "        text-align: right;\n",
       "    }\n",
       "</style>\n",
       "<table border=\"1\" class=\"dataframe\">\n",
       "  <thead>\n",
       "    <tr style=\"text-align: right;\">\n",
       "      <th></th>\n",
       "      <th>customer_id</th>\n",
       "      <th>address</th>\n",
       "      <th>postcode</th>\n",
       "      <th>state</th>\n",
       "      <th>country</th>\n",
       "      <th>property_valuation</th>\n",
       "    </tr>\n",
       "  </thead>\n",
       "  <tbody>\n",
       "    <tr>\n",
       "      <th>0</th>\n",
       "      <td>1</td>\n",
       "      <td>060 Morning Avenue</td>\n",
       "      <td>2016</td>\n",
       "      <td>New South Wales</td>\n",
       "      <td>Australia</td>\n",
       "      <td>10</td>\n",
       "    </tr>\n",
       "    <tr>\n",
       "      <th>1</th>\n",
       "      <td>2</td>\n",
       "      <td>6 Meadow Vale Court</td>\n",
       "      <td>2153</td>\n",
       "      <td>New South Wales</td>\n",
       "      <td>Australia</td>\n",
       "      <td>10</td>\n",
       "    </tr>\n",
       "    <tr>\n",
       "      <th>2</th>\n",
       "      <td>4</td>\n",
       "      <td>0 Holy Cross Court</td>\n",
       "      <td>4211</td>\n",
       "      <td>QLD</td>\n",
       "      <td>Australia</td>\n",
       "      <td>9</td>\n",
       "    </tr>\n",
       "    <tr>\n",
       "      <th>3</th>\n",
       "      <td>5</td>\n",
       "      <td>17979 Del Mar Point</td>\n",
       "      <td>2448</td>\n",
       "      <td>New South Wales</td>\n",
       "      <td>Australia</td>\n",
       "      <td>4</td>\n",
       "    </tr>\n",
       "    <tr>\n",
       "      <th>4</th>\n",
       "      <td>6</td>\n",
       "      <td>9 Oakridge Court</td>\n",
       "      <td>3216</td>\n",
       "      <td>VIC</td>\n",
       "      <td>Australia</td>\n",
       "      <td>9</td>\n",
       "    </tr>\n",
       "  </tbody>\n",
       "</table>\n",
       "</div>"
      ],
      "text/plain": [
       "   customer_id              address  postcode            state    country  \\\n",
       "0            1   060 Morning Avenue      2016  New South Wales  Australia   \n",
       "1            2  6 Meadow Vale Court      2153  New South Wales  Australia   \n",
       "2            4   0 Holy Cross Court      4211              QLD  Australia   \n",
       "3            5  17979 Del Mar Point      2448  New South Wales  Australia   \n",
       "4            6     9 Oakridge Court      3216              VIC  Australia   \n",
       "\n",
       "   property_valuation  \n",
       "0                  10  \n",
       "1                  10  \n",
       "2                   9  \n",
       "3                   4  \n",
       "4                   9  "
      ]
     },
     "execution_count": 12,
     "metadata": {},
     "output_type": "execute_result"
    }
   ],
   "source": [
    "customeraddress.head()"
   ]
  },
  {
   "cell_type": "code",
   "execution_count": 13,
   "id": "949ccd9d",
   "metadata": {},
   "outputs": [
    {
     "data": {
      "text/plain": [
       "(3999, 6)"
      ]
     },
     "execution_count": 13,
     "metadata": {},
     "output_type": "execute_result"
    }
   ],
   "source": [
    "customeraddress.shape"
   ]
  },
  {
   "cell_type": "code",
   "execution_count": 14,
   "id": "ed7a72e2",
   "metadata": {},
   "outputs": [
    {
     "data": {
      "text/plain": [
       "customer_id            int64\n",
       "address               object\n",
       "postcode               int64\n",
       "state                 object\n",
       "country               object\n",
       "property_valuation     int64\n",
       "dtype: object"
      ]
     },
     "execution_count": 14,
     "metadata": {},
     "output_type": "execute_result"
    }
   ],
   "source": [
    "customeraddress.dtypes"
   ]
  },
  {
   "cell_type": "code",
   "execution_count": 15,
   "id": "1cf5f7be",
   "metadata": {},
   "outputs": [
    {
     "data": {
      "text/plain": [
       "0"
      ]
     },
     "execution_count": 15,
     "metadata": {},
     "output_type": "execute_result"
    }
   ],
   "source": [
    "sum(customeraddress.duplicated())"
   ]
  },
  {
   "cell_type": "code",
   "execution_count": 16,
   "id": "1e22a033",
   "metadata": {},
   "outputs": [
    {
     "data": {
      "text/plain": [
       "customer_id           False\n",
       "address               False\n",
       "postcode              False\n",
       "state                 False\n",
       "country               False\n",
       "property_valuation    False\n",
       "dtype: bool"
      ]
     },
     "execution_count": 16,
     "metadata": {},
     "output_type": "execute_result"
    }
   ],
   "source": [
    "customeraddress.isna().any()"
   ]
  },
  {
   "cell_type": "code",
   "execution_count": 17,
   "id": "984decca",
   "metadata": {},
   "outputs": [
    {
     "data": {
      "text/html": [
       "<div>\n",
       "<style scoped>\n",
       "    .dataframe tbody tr th:only-of-type {\n",
       "        vertical-align: middle;\n",
       "    }\n",
       "\n",
       "    .dataframe tbody tr th {\n",
       "        vertical-align: top;\n",
       "    }\n",
       "\n",
       "    .dataframe thead th {\n",
       "        text-align: right;\n",
       "    }\n",
       "</style>\n",
       "<table border=\"1\" class=\"dataframe\">\n",
       "  <thead>\n",
       "    <tr style=\"text-align: right;\">\n",
       "      <th></th>\n",
       "      <th>customer_id</th>\n",
       "      <th>first_name</th>\n",
       "      <th>last_name</th>\n",
       "      <th>gender</th>\n",
       "      <th>past_3_years_bike_related_purchases</th>\n",
       "      <th>DOB</th>\n",
       "      <th>job_title</th>\n",
       "      <th>job_industry_category</th>\n",
       "      <th>wealth_segment</th>\n",
       "      <th>deceased_indicator</th>\n",
       "      <th>default</th>\n",
       "      <th>owns_car</th>\n",
       "      <th>tenure</th>\n",
       "    </tr>\n",
       "  </thead>\n",
       "  <tbody>\n",
       "    <tr>\n",
       "      <th>0</th>\n",
       "      <td>1</td>\n",
       "      <td>Laraine</td>\n",
       "      <td>Medendorp</td>\n",
       "      <td>F</td>\n",
       "      <td>93</td>\n",
       "      <td>1953-10-12</td>\n",
       "      <td>Executive Secretary</td>\n",
       "      <td>Health</td>\n",
       "      <td>Mass Customer</td>\n",
       "      <td>N</td>\n",
       "      <td>\"'</td>\n",
       "      <td>Yes</td>\n",
       "      <td>11.0</td>\n",
       "    </tr>\n",
       "    <tr>\n",
       "      <th>1</th>\n",
       "      <td>2</td>\n",
       "      <td>Eli</td>\n",
       "      <td>Bockman</td>\n",
       "      <td>Male</td>\n",
       "      <td>81</td>\n",
       "      <td>1980-12-16</td>\n",
       "      <td>Administrative Officer</td>\n",
       "      <td>Financial Services</td>\n",
       "      <td>Mass Customer</td>\n",
       "      <td>N</td>\n",
       "      <td>&lt;script&gt;alert('hi')&lt;/script&gt;</td>\n",
       "      <td>Yes</td>\n",
       "      <td>16.0</td>\n",
       "    </tr>\n",
       "    <tr>\n",
       "      <th>2</th>\n",
       "      <td>3</td>\n",
       "      <td>Arlin</td>\n",
       "      <td>Dearle</td>\n",
       "      <td>Male</td>\n",
       "      <td>61</td>\n",
       "      <td>1954-01-20</td>\n",
       "      <td>Recruiting Manager</td>\n",
       "      <td>Property</td>\n",
       "      <td>Mass Customer</td>\n",
       "      <td>N</td>\n",
       "      <td>2018-02-01 00:00:00</td>\n",
       "      <td>Yes</td>\n",
       "      <td>15.0</td>\n",
       "    </tr>\n",
       "    <tr>\n",
       "      <th>3</th>\n",
       "      <td>4</td>\n",
       "      <td>Talbot</td>\n",
       "      <td>NaN</td>\n",
       "      <td>Male</td>\n",
       "      <td>33</td>\n",
       "      <td>1961-10-03</td>\n",
       "      <td>NaN</td>\n",
       "      <td>IT</td>\n",
       "      <td>Mass Customer</td>\n",
       "      <td>N</td>\n",
       "      <td>() { _; } &gt;_[$($())] { touch /tmp/blns.shellsh...</td>\n",
       "      <td>No</td>\n",
       "      <td>7.0</td>\n",
       "    </tr>\n",
       "    <tr>\n",
       "      <th>4</th>\n",
       "      <td>5</td>\n",
       "      <td>Sheila-kathryn</td>\n",
       "      <td>Calton</td>\n",
       "      <td>Female</td>\n",
       "      <td>56</td>\n",
       "      <td>1977-05-13</td>\n",
       "      <td>Senior Editor</td>\n",
       "      <td>NaN</td>\n",
       "      <td>Affluent Customer</td>\n",
       "      <td>N</td>\n",
       "      <td>NIL</td>\n",
       "      <td>Yes</td>\n",
       "      <td>8.0</td>\n",
       "    </tr>\n",
       "  </tbody>\n",
       "</table>\n",
       "</div>"
      ],
      "text/plain": [
       "   customer_id      first_name  last_name  gender  \\\n",
       "0            1         Laraine  Medendorp       F   \n",
       "1            2             Eli    Bockman    Male   \n",
       "2            3           Arlin     Dearle    Male   \n",
       "3            4          Talbot        NaN    Male   \n",
       "4            5  Sheila-kathryn     Calton  Female   \n",
       "\n",
       "   past_3_years_bike_related_purchases        DOB               job_title  \\\n",
       "0                                   93 1953-10-12     Executive Secretary   \n",
       "1                                   81 1980-12-16  Administrative Officer   \n",
       "2                                   61 1954-01-20      Recruiting Manager   \n",
       "3                                   33 1961-10-03                     NaN   \n",
       "4                                   56 1977-05-13           Senior Editor   \n",
       "\n",
       "  job_industry_category     wealth_segment deceased_indicator  \\\n",
       "0                Health      Mass Customer                  N   \n",
       "1    Financial Services      Mass Customer                  N   \n",
       "2              Property      Mass Customer                  N   \n",
       "3                    IT      Mass Customer                  N   \n",
       "4                   NaN  Affluent Customer                  N   \n",
       "\n",
       "                                             default owns_car  tenure  \n",
       "0                                                 \"'      Yes    11.0  \n",
       "1                       <script>alert('hi')</script>      Yes    16.0  \n",
       "2                                2018-02-01 00:00:00      Yes    15.0  \n",
       "3  () { _; } >_[$($())] { touch /tmp/blns.shellsh...       No     7.0  \n",
       "4                                                NIL      Yes     8.0  "
      ]
     },
     "execution_count": 17,
     "metadata": {},
     "output_type": "execute_result"
    }
   ],
   "source": [
    "customerdemo.head()"
   ]
  },
  {
   "cell_type": "code",
   "execution_count": 18,
   "id": "de881000",
   "metadata": {},
   "outputs": [
    {
     "data": {
      "text/plain": [
       "customer_id                                     int64\n",
       "first_name                                     object\n",
       "last_name                                      object\n",
       "gender                                         object\n",
       "past_3_years_bike_related_purchases             int64\n",
       "DOB                                    datetime64[ns]\n",
       "job_title                                      object\n",
       "job_industry_category                          object\n",
       "wealth_segment                                 object\n",
       "deceased_indicator                             object\n",
       "default                                        object\n",
       "owns_car                                       object\n",
       "tenure                                        float64\n",
       "dtype: object"
      ]
     },
     "execution_count": 18,
     "metadata": {},
     "output_type": "execute_result"
    }
   ],
   "source": [
    "customerdemo.dtypes"
   ]
  },
  {
   "cell_type": "code",
   "execution_count": 19,
   "id": "9f70d48b",
   "metadata": {},
   "outputs": [
    {
     "data": {
      "text/plain": [
       "array(['F', 'Male', 'Female', 'U', 'Femal', 'M'], dtype=object)"
      ]
     },
     "execution_count": 19,
     "metadata": {},
     "output_type": "execute_result"
    }
   ],
   "source": [
    "customerdemo['gender'].unique()"
   ]
  },
  {
   "cell_type": "markdown",
   "id": "7328411f",
   "metadata": {},
   "source": [
    "<h2>Quality issues</h2>\n",
    "\n",
    "<b>Transactions dataset</b>\n",
    "\n",
    "1.Some columns have recorded NULL values: online_order, brand, product_line, product_class_product_size, standard_cost and product_first_sold_date.\n",
    "2.Irrelevant columns to my analysis: online_order, product_first_sold_date.\n",
    "\n",
    "<b>Customeraddress dataset</b>\n",
    "\n",
    "1.Some states are recorded as Victoria, Newsouthwales instead of VIC and NSW respectively.\n",
    "\n",
    "<b>Customerdemographic dataset</b>\n",
    "\n",
    "1.Irrelevant columns such as deceased_indicator and default.<br>\n",
    "2.Some genders are recorded as F,Female,M, instead of Male or Female.<br>\n",
    "3.Some genders are recorded as U.<br>\n",
    "4.Missing values in columns last_name, DOB,job_title,job_industry_category.<br>\n",
    "\n",
    "<h3>Data cleaning</h3>\n",
    "1.Dropping rows with missing values.<br>\n",
    "2.Dropping columns not relevant to my analysis.<br>\n",
    "3.Replacing genders recorded as F, Femal and M as either Male or Female.<br>\n",
    "4.Dropping genders recorded as U.<br>\n",
    "5.Replacing recorded states as Victoria, Newsouthwales as VIC and NSW.<br>\n",
    "6.Joining the three datasets into one clean dataset.<br>\n",
    "\n",
    "\n",
    "\n"
   ]
  },
  {
   "cell_type": "markdown",
   "id": "ec79b2ae",
   "metadata": {},
   "source": [
    "<b>Dropping rows with missing values"
   ]
  },
  {
   "cell_type": "code",
   "execution_count": 20,
   "id": "69593479",
   "metadata": {},
   "outputs": [],
   "source": [
    "transactions.dropna(inplace=True)"
   ]
  },
  {
   "cell_type": "code",
   "execution_count": 21,
   "id": "0fe1d992",
   "metadata": {},
   "outputs": [
    {
     "data": {
      "text/plain": [
       "transaction_id             0\n",
       "product_id                 0\n",
       "customer_id                0\n",
       "transaction_date           0\n",
       "online_order               0\n",
       "order_status               0\n",
       "brand                      0\n",
       "product_line               0\n",
       "product_class              0\n",
       "product_size               0\n",
       "list_price                 0\n",
       "standard_cost              0\n",
       "product_first_sold_date    0\n",
       "dtype: int64"
      ]
     },
     "execution_count": 21,
     "metadata": {},
     "output_type": "execute_result"
    }
   ],
   "source": [
    "transactions.isna().sum()"
   ]
  },
  {
   "cell_type": "markdown",
   "id": "41cceed5",
   "metadata": {},
   "source": [
    "<b>Dropping columns not relevant to my analysis."
   ]
  },
  {
   "cell_type": "code",
   "execution_count": 22,
   "id": "463a9850",
   "metadata": {},
   "outputs": [],
   "source": [
    "transactions.drop(['online_order','product_first_sold_date'],axis=1,inplace=True)"
   ]
  },
  {
   "cell_type": "code",
   "execution_count": 23,
   "id": "95081b87",
   "metadata": {},
   "outputs": [
    {
     "data": {
      "text/plain": [
       "(19445, 11)"
      ]
     },
     "execution_count": 23,
     "metadata": {},
     "output_type": "execute_result"
    }
   ],
   "source": [
    "transactions.shape"
   ]
  },
  {
   "cell_type": "markdown",
   "id": "be255778",
   "metadata": {},
   "source": [
    "<b>Replacing recorded states as Victoria, Newsouthwales as VIC and NSW."
   ]
  },
  {
   "cell_type": "code",
   "execution_count": 24,
   "id": "83e6e8a2",
   "metadata": {},
   "outputs": [],
   "source": [
    "customeraddress.loc[customeraddress['state']=='Victoria','state']='VIC'\n",
    "customeraddress.loc[customeraddress['state']=='New South Wales','state']='NSW'\n",
    "\n"
   ]
  },
  {
   "cell_type": "code",
   "execution_count": 25,
   "id": "12718b9d",
   "metadata": {},
   "outputs": [],
   "source": [
    "customerdemo.drop(['default','deceased_indicator'],axis=1,inplace=True)"
   ]
  },
  {
   "cell_type": "markdown",
   "id": "5304ff2c",
   "metadata": {},
   "source": [
    "<b>Replacing genders recorded as F, Femal and M as either Male or Female."
   ]
  },
  {
   "cell_type": "code",
   "execution_count": 26,
   "id": "0c1f540b",
   "metadata": {},
   "outputs": [
    {
     "data": {
      "text/plain": [
       "Female    2037\n",
       "Male      1872\n",
       "U           88\n",
       "F            1\n",
       "Femal        1\n",
       "M            1\n",
       "Name: gender, dtype: int64"
      ]
     },
     "execution_count": 26,
     "metadata": {},
     "output_type": "execute_result"
    }
   ],
   "source": [
    "customerdemo['gender'].value_counts()"
   ]
  },
  {
   "cell_type": "code",
   "execution_count": 27,
   "id": "9ce26f19",
   "metadata": {},
   "outputs": [],
   "source": [
    "customerdemo.loc[customerdemo['gender']=='F','gender']='Female'\n",
    "customerdemo.loc[customerdemo['gender']=='Femal','gender']='Female'\n",
    "customerdemo.loc[customerdemo['gender']=='M','gender']='Male'\n",
    "\n"
   ]
  },
  {
   "cell_type": "markdown",
   "id": "ad2ea801",
   "metadata": {},
   "source": [
    "<b>Dropping genders recorded as U."
   ]
  },
  {
   "cell_type": "code",
   "execution_count": 28,
   "id": "5ffc5be3",
   "metadata": {},
   "outputs": [],
   "source": [
    "customerdemo.drop(index=customerdemo[customerdemo['gender'] == 'U'].index, inplace=True)"
   ]
  },
  {
   "cell_type": "code",
   "execution_count": 29,
   "id": "fc7fcef9",
   "metadata": {},
   "outputs": [],
   "source": [
    "customerdemo.dropna(inplace=True)"
   ]
  },
  {
   "cell_type": "markdown",
   "id": "b71b3f20",
   "metadata": {},
   "source": [
    "<b>Joining the three datasets into one clean dataset."
   ]
  },
  {
   "cell_type": "code",
   "execution_count": 30,
   "id": "ed670a8f",
   "metadata": {},
   "outputs": [
    {
     "data": {
      "text/html": [
       "<div>\n",
       "<style scoped>\n",
       "    .dataframe tbody tr th:only-of-type {\n",
       "        vertical-align: middle;\n",
       "    }\n",
       "\n",
       "    .dataframe tbody tr th {\n",
       "        vertical-align: top;\n",
       "    }\n",
       "\n",
       "    .dataframe thead th {\n",
       "        text-align: right;\n",
       "    }\n",
       "</style>\n",
       "<table border=\"1\" class=\"dataframe\">\n",
       "  <thead>\n",
       "    <tr style=\"text-align: right;\">\n",
       "      <th></th>\n",
       "      <th>transaction_id</th>\n",
       "      <th>product_id</th>\n",
       "      <th>customer_id</th>\n",
       "      <th>transaction_date</th>\n",
       "      <th>order_status</th>\n",
       "      <th>brand</th>\n",
       "      <th>product_line</th>\n",
       "      <th>product_class</th>\n",
       "      <th>product_size</th>\n",
       "      <th>list_price</th>\n",
       "      <th>...</th>\n",
       "      <th>first_name</th>\n",
       "      <th>last_name</th>\n",
       "      <th>gender</th>\n",
       "      <th>past_3_years_bike_related_purchases</th>\n",
       "      <th>DOB</th>\n",
       "      <th>job_title</th>\n",
       "      <th>job_industry_category</th>\n",
       "      <th>wealth_segment</th>\n",
       "      <th>owns_car</th>\n",
       "      <th>tenure</th>\n",
       "    </tr>\n",
       "  </thead>\n",
       "  <tbody>\n",
       "    <tr>\n",
       "      <th>0</th>\n",
       "      <td>1</td>\n",
       "      <td>2</td>\n",
       "      <td>2950</td>\n",
       "      <td>2017-02-25</td>\n",
       "      <td>Approved</td>\n",
       "      <td>Solex</td>\n",
       "      <td>Standard</td>\n",
       "      <td>medium</td>\n",
       "      <td>medium</td>\n",
       "      <td>71.49</td>\n",
       "      <td>...</td>\n",
       "      <td>Kristos</td>\n",
       "      <td>Anthony</td>\n",
       "      <td>Male</td>\n",
       "      <td>19</td>\n",
       "      <td>1955-01-11</td>\n",
       "      <td>Software Engineer I</td>\n",
       "      <td>Financial Services</td>\n",
       "      <td>Mass Customer</td>\n",
       "      <td>Yes</td>\n",
       "      <td>10.0</td>\n",
       "    </tr>\n",
       "    <tr>\n",
       "      <th>1</th>\n",
       "      <td>11065</td>\n",
       "      <td>1</td>\n",
       "      <td>2950</td>\n",
       "      <td>2017-10-16</td>\n",
       "      <td>Approved</td>\n",
       "      <td>Giant Bicycles</td>\n",
       "      <td>Standard</td>\n",
       "      <td>medium</td>\n",
       "      <td>medium</td>\n",
       "      <td>1403.50</td>\n",
       "      <td>...</td>\n",
       "      <td>Kristos</td>\n",
       "      <td>Anthony</td>\n",
       "      <td>Male</td>\n",
       "      <td>19</td>\n",
       "      <td>1955-01-11</td>\n",
       "      <td>Software Engineer I</td>\n",
       "      <td>Financial Services</td>\n",
       "      <td>Mass Customer</td>\n",
       "      <td>Yes</td>\n",
       "      <td>10.0</td>\n",
       "    </tr>\n",
       "    <tr>\n",
       "      <th>2</th>\n",
       "      <td>18923</td>\n",
       "      <td>62</td>\n",
       "      <td>2950</td>\n",
       "      <td>2017-04-26</td>\n",
       "      <td>Approved</td>\n",
       "      <td>Solex</td>\n",
       "      <td>Standard</td>\n",
       "      <td>medium</td>\n",
       "      <td>medium</td>\n",
       "      <td>478.16</td>\n",
       "      <td>...</td>\n",
       "      <td>Kristos</td>\n",
       "      <td>Anthony</td>\n",
       "      <td>Male</td>\n",
       "      <td>19</td>\n",
       "      <td>1955-01-11</td>\n",
       "      <td>Software Engineer I</td>\n",
       "      <td>Financial Services</td>\n",
       "      <td>Mass Customer</td>\n",
       "      <td>Yes</td>\n",
       "      <td>10.0</td>\n",
       "    </tr>\n",
       "    <tr>\n",
       "      <th>3</th>\n",
       "      <td>2</td>\n",
       "      <td>3</td>\n",
       "      <td>3120</td>\n",
       "      <td>2017-05-21</td>\n",
       "      <td>Approved</td>\n",
       "      <td>Trek Bicycles</td>\n",
       "      <td>Standard</td>\n",
       "      <td>medium</td>\n",
       "      <td>large</td>\n",
       "      <td>2091.47</td>\n",
       "      <td>...</td>\n",
       "      <td>Lauree</td>\n",
       "      <td>O'Donnell</td>\n",
       "      <td>Female</td>\n",
       "      <td>89</td>\n",
       "      <td>1979-02-04</td>\n",
       "      <td>Clinical Specialist</td>\n",
       "      <td>Health</td>\n",
       "      <td>Mass Customer</td>\n",
       "      <td>Yes</td>\n",
       "      <td>10.0</td>\n",
       "    </tr>\n",
       "    <tr>\n",
       "      <th>4</th>\n",
       "      <td>6862</td>\n",
       "      <td>4</td>\n",
       "      <td>3120</td>\n",
       "      <td>2017-10-05</td>\n",
       "      <td>Approved</td>\n",
       "      <td>Giant Bicycles</td>\n",
       "      <td>Standard</td>\n",
       "      <td>high</td>\n",
       "      <td>medium</td>\n",
       "      <td>1129.13</td>\n",
       "      <td>...</td>\n",
       "      <td>Lauree</td>\n",
       "      <td>O'Donnell</td>\n",
       "      <td>Female</td>\n",
       "      <td>89</td>\n",
       "      <td>1979-02-04</td>\n",
       "      <td>Clinical Specialist</td>\n",
       "      <td>Health</td>\n",
       "      <td>Mass Customer</td>\n",
       "      <td>Yes</td>\n",
       "      <td>10.0</td>\n",
       "    </tr>\n",
       "    <tr>\n",
       "      <th>...</th>\n",
       "      <td>...</td>\n",
       "      <td>...</td>\n",
       "      <td>...</td>\n",
       "      <td>...</td>\n",
       "      <td>...</td>\n",
       "      <td>...</td>\n",
       "      <td>...</td>\n",
       "      <td>...</td>\n",
       "      <td>...</td>\n",
       "      <td>...</td>\n",
       "      <td>...</td>\n",
       "      <td>...</td>\n",
       "      <td>...</td>\n",
       "      <td>...</td>\n",
       "      <td>...</td>\n",
       "      <td>...</td>\n",
       "      <td>...</td>\n",
       "      <td>...</td>\n",
       "      <td>...</td>\n",
       "      <td>...</td>\n",
       "      <td>...</td>\n",
       "    </tr>\n",
       "    <tr>\n",
       "      <th>13623</th>\n",
       "      <td>18165</td>\n",
       "      <td>86</td>\n",
       "      <td>3446</td>\n",
       "      <td>2017-12-03</td>\n",
       "      <td>Approved</td>\n",
       "      <td>OHM Cycles</td>\n",
       "      <td>Standard</td>\n",
       "      <td>medium</td>\n",
       "      <td>medium</td>\n",
       "      <td>235.63</td>\n",
       "      <td>...</td>\n",
       "      <td>Gard</td>\n",
       "      <td>Tidy</td>\n",
       "      <td>Male</td>\n",
       "      <td>8</td>\n",
       "      <td>1967-01-30</td>\n",
       "      <td>Structural Engineer</td>\n",
       "      <td>Manufacturing</td>\n",
       "      <td>Mass Customer</td>\n",
       "      <td>No</td>\n",
       "      <td>14.0</td>\n",
       "    </tr>\n",
       "    <tr>\n",
       "      <th>13624</th>\n",
       "      <td>18735</td>\n",
       "      <td>45</td>\n",
       "      <td>3168</td>\n",
       "      <td>2017-02-21</td>\n",
       "      <td>Approved</td>\n",
       "      <td>Solex</td>\n",
       "      <td>Standard</td>\n",
       "      <td>medium</td>\n",
       "      <td>medium</td>\n",
       "      <td>441.49</td>\n",
       "      <td>...</td>\n",
       "      <td>Johan</td>\n",
       "      <td>Dudderidge</td>\n",
       "      <td>Male</td>\n",
       "      <td>89</td>\n",
       "      <td>1976-02-16</td>\n",
       "      <td>Assistant Manager</td>\n",
       "      <td>Health</td>\n",
       "      <td>Affluent Customer</td>\n",
       "      <td>No</td>\n",
       "      <td>22.0</td>\n",
       "    </tr>\n",
       "    <tr>\n",
       "      <th>13625</th>\n",
       "      <td>18789</td>\n",
       "      <td>83</td>\n",
       "      <td>3168</td>\n",
       "      <td>2017-04-11</td>\n",
       "      <td>Approved</td>\n",
       "      <td>Solex</td>\n",
       "      <td>Touring</td>\n",
       "      <td>medium</td>\n",
       "      <td>large</td>\n",
       "      <td>2083.94</td>\n",
       "      <td>...</td>\n",
       "      <td>Johan</td>\n",
       "      <td>Dudderidge</td>\n",
       "      <td>Male</td>\n",
       "      <td>89</td>\n",
       "      <td>1976-02-16</td>\n",
       "      <td>Assistant Manager</td>\n",
       "      <td>Health</td>\n",
       "      <td>Affluent Customer</td>\n",
       "      <td>No</td>\n",
       "      <td>22.0</td>\n",
       "    </tr>\n",
       "    <tr>\n",
       "      <th>13626</th>\n",
       "      <td>19113</td>\n",
       "      <td>3</td>\n",
       "      <td>3168</td>\n",
       "      <td>2017-06-03</td>\n",
       "      <td>Approved</td>\n",
       "      <td>Trek Bicycles</td>\n",
       "      <td>Standard</td>\n",
       "      <td>medium</td>\n",
       "      <td>large</td>\n",
       "      <td>2091.47</td>\n",
       "      <td>...</td>\n",
       "      <td>Johan</td>\n",
       "      <td>Dudderidge</td>\n",
       "      <td>Male</td>\n",
       "      <td>89</td>\n",
       "      <td>1976-02-16</td>\n",
       "      <td>Assistant Manager</td>\n",
       "      <td>Health</td>\n",
       "      <td>Affluent Customer</td>\n",
       "      <td>No</td>\n",
       "      <td>22.0</td>\n",
       "    </tr>\n",
       "    <tr>\n",
       "      <th>13627</th>\n",
       "      <td>19912</td>\n",
       "      <td>3</td>\n",
       "      <td>3168</td>\n",
       "      <td>2017-09-30</td>\n",
       "      <td>Approved</td>\n",
       "      <td>Trek Bicycles</td>\n",
       "      <td>Standard</td>\n",
       "      <td>medium</td>\n",
       "      <td>large</td>\n",
       "      <td>2091.47</td>\n",
       "      <td>...</td>\n",
       "      <td>Johan</td>\n",
       "      <td>Dudderidge</td>\n",
       "      <td>Male</td>\n",
       "      <td>89</td>\n",
       "      <td>1976-02-16</td>\n",
       "      <td>Assistant Manager</td>\n",
       "      <td>Health</td>\n",
       "      <td>Affluent Customer</td>\n",
       "      <td>No</td>\n",
       "      <td>22.0</td>\n",
       "    </tr>\n",
       "  </tbody>\n",
       "</table>\n",
       "<p>13628 rows × 26 columns</p>\n",
       "</div>"
      ],
      "text/plain": [
       "       transaction_id  product_id  customer_id transaction_date order_status  \\\n",
       "0                   1           2         2950       2017-02-25     Approved   \n",
       "1               11065           1         2950       2017-10-16     Approved   \n",
       "2               18923          62         2950       2017-04-26     Approved   \n",
       "3                   2           3         3120       2017-05-21     Approved   \n",
       "4                6862           4         3120       2017-10-05     Approved   \n",
       "...               ...         ...          ...              ...          ...   \n",
       "13623           18165          86         3446       2017-12-03     Approved   \n",
       "13624           18735          45         3168       2017-02-21     Approved   \n",
       "13625           18789          83         3168       2017-04-11     Approved   \n",
       "13626           19113           3         3168       2017-06-03     Approved   \n",
       "13627           19912           3         3168       2017-09-30     Approved   \n",
       "\n",
       "                brand product_line product_class product_size  list_price  \\\n",
       "0               Solex     Standard        medium       medium       71.49   \n",
       "1      Giant Bicycles     Standard        medium       medium     1403.50   \n",
       "2               Solex     Standard        medium       medium      478.16   \n",
       "3       Trek Bicycles     Standard        medium        large     2091.47   \n",
       "4      Giant Bicycles     Standard          high       medium     1129.13   \n",
       "...               ...          ...           ...          ...         ...   \n",
       "13623      OHM Cycles     Standard        medium       medium      235.63   \n",
       "13624           Solex     Standard        medium       medium      441.49   \n",
       "13625           Solex      Touring        medium        large     2083.94   \n",
       "13626   Trek Bicycles     Standard        medium        large     2091.47   \n",
       "13627   Trek Bicycles     Standard        medium        large     2091.47   \n",
       "\n",
       "       ...  first_name   last_name  gender  \\\n",
       "0      ...     Kristos     Anthony    Male   \n",
       "1      ...     Kristos     Anthony    Male   \n",
       "2      ...     Kristos     Anthony    Male   \n",
       "3      ...      Lauree   O'Donnell  Female   \n",
       "4      ...      Lauree   O'Donnell  Female   \n",
       "...    ...         ...         ...     ...   \n",
       "13623  ...        Gard        Tidy    Male   \n",
       "13624  ...       Johan  Dudderidge    Male   \n",
       "13625  ...       Johan  Dudderidge    Male   \n",
       "13626  ...       Johan  Dudderidge    Male   \n",
       "13627  ...       Johan  Dudderidge    Male   \n",
       "\n",
       "      past_3_years_bike_related_purchases        DOB            job_title  \\\n",
       "0                                      19 1955-01-11  Software Engineer I   \n",
       "1                                      19 1955-01-11  Software Engineer I   \n",
       "2                                      19 1955-01-11  Software Engineer I   \n",
       "3                                      89 1979-02-04  Clinical Specialist   \n",
       "4                                      89 1979-02-04  Clinical Specialist   \n",
       "...                                   ...        ...                  ...   \n",
       "13623                                   8 1967-01-30  Structural Engineer   \n",
       "13624                                  89 1976-02-16    Assistant Manager   \n",
       "13625                                  89 1976-02-16    Assistant Manager   \n",
       "13626                                  89 1976-02-16    Assistant Manager   \n",
       "13627                                  89 1976-02-16    Assistant Manager   \n",
       "\n",
       "      job_industry_category     wealth_segment owns_car  tenure  \n",
       "0        Financial Services      Mass Customer      Yes    10.0  \n",
       "1        Financial Services      Mass Customer      Yes    10.0  \n",
       "2        Financial Services      Mass Customer      Yes    10.0  \n",
       "3                    Health      Mass Customer      Yes    10.0  \n",
       "4                    Health      Mass Customer      Yes    10.0  \n",
       "...                     ...                ...      ...     ...  \n",
       "13623         Manufacturing      Mass Customer       No    14.0  \n",
       "13624                Health  Affluent Customer       No    22.0  \n",
       "13625                Health  Affluent Customer       No    22.0  \n",
       "13626                Health  Affluent Customer       No    22.0  \n",
       "13627                Health  Affluent Customer       No    22.0  \n",
       "\n",
       "[13628 rows x 26 columns]"
      ]
     },
     "execution_count": 30,
     "metadata": {},
     "output_type": "execute_result"
    }
   ],
   "source": [
    "df= pd.merge(transactions, customeraddress, on='customer_id')\n",
    "\n",
    "newcustomerlist= pd.merge(df, customerdemo, on='customer_id')\n",
    "\n",
    "newcustomerlist"
   ]
  },
  {
   "cell_type": "code",
   "execution_count": 31,
   "id": "00e0f7c3",
   "metadata": {},
   "outputs": [],
   "source": [
    "newcustomerlist.to_csv('newcustomerlistkpmg.csv')\n"
   ]
  },
  {
   "cell_type": "code",
   "execution_count": 32,
   "id": "8cc15ac3",
   "metadata": {},
   "outputs": [
    {
     "data": {
      "text/plain": [
       "(13628, 26)"
      ]
     },
     "execution_count": 32,
     "metadata": {},
     "output_type": "execute_result"
    }
   ],
   "source": [
    "newcustomerlist.shape"
   ]
  },
  {
   "cell_type": "code",
   "execution_count": 33,
   "id": "6d25bc8d",
   "metadata": {},
   "outputs": [
    {
     "data": {
      "text/plain": [
       "transaction_id                         False\n",
       "product_id                             False\n",
       "customer_id                            False\n",
       "transaction_date                       False\n",
       "order_status                           False\n",
       "brand                                  False\n",
       "product_line                           False\n",
       "product_class                          False\n",
       "product_size                           False\n",
       "list_price                             False\n",
       "standard_cost                          False\n",
       "address                                False\n",
       "postcode                               False\n",
       "state                                  False\n",
       "country                                False\n",
       "property_valuation                     False\n",
       "first_name                             False\n",
       "last_name                              False\n",
       "gender                                 False\n",
       "past_3_years_bike_related_purchases    False\n",
       "DOB                                    False\n",
       "job_title                              False\n",
       "job_industry_category                  False\n",
       "wealth_segment                         False\n",
       "owns_car                               False\n",
       "tenure                                 False\n",
       "dtype: bool"
      ]
     },
     "execution_count": 33,
     "metadata": {},
     "output_type": "execute_result"
    }
   ],
   "source": [
    "newcustomerlist.isna().any()"
   ]
  },
  {
   "cell_type": "markdown",
   "id": "45f1ab8e",
   "metadata": {},
   "source": [
    "<h2>Data Exploration"
   ]
  },
  {
   "cell_type": "code",
   "execution_count": 34,
   "id": "6618085d",
   "metadata": {},
   "outputs": [
    {
     "data": {
      "text/html": [
       "<div>\n",
       "<style scoped>\n",
       "    .dataframe tbody tr th:only-of-type {\n",
       "        vertical-align: middle;\n",
       "    }\n",
       "\n",
       "    .dataframe tbody tr th {\n",
       "        vertical-align: top;\n",
       "    }\n",
       "\n",
       "    .dataframe thead th {\n",
       "        text-align: right;\n",
       "    }\n",
       "</style>\n",
       "<table border=\"1\" class=\"dataframe\">\n",
       "  <thead>\n",
       "    <tr style=\"text-align: right;\">\n",
       "      <th></th>\n",
       "      <th>transaction_id</th>\n",
       "      <th>product_id</th>\n",
       "      <th>customer_id</th>\n",
       "      <th>transaction_date</th>\n",
       "      <th>order_status</th>\n",
       "      <th>brand</th>\n",
       "      <th>product_line</th>\n",
       "      <th>product_class</th>\n",
       "      <th>product_size</th>\n",
       "      <th>list_price</th>\n",
       "      <th>...</th>\n",
       "      <th>first_name</th>\n",
       "      <th>last_name</th>\n",
       "      <th>gender</th>\n",
       "      <th>past_3_years_bike_related_purchases</th>\n",
       "      <th>DOB</th>\n",
       "      <th>job_title</th>\n",
       "      <th>job_industry_category</th>\n",
       "      <th>wealth_segment</th>\n",
       "      <th>owns_car</th>\n",
       "      <th>tenure</th>\n",
       "    </tr>\n",
       "  </thead>\n",
       "  <tbody>\n",
       "    <tr>\n",
       "      <th>0</th>\n",
       "      <td>1</td>\n",
       "      <td>2</td>\n",
       "      <td>2950</td>\n",
       "      <td>2017-02-25</td>\n",
       "      <td>Approved</td>\n",
       "      <td>Solex</td>\n",
       "      <td>Standard</td>\n",
       "      <td>medium</td>\n",
       "      <td>medium</td>\n",
       "      <td>71.49</td>\n",
       "      <td>...</td>\n",
       "      <td>Kristos</td>\n",
       "      <td>Anthony</td>\n",
       "      <td>Male</td>\n",
       "      <td>19</td>\n",
       "      <td>1955-01-11</td>\n",
       "      <td>Software Engineer I</td>\n",
       "      <td>Financial Services</td>\n",
       "      <td>Mass Customer</td>\n",
       "      <td>Yes</td>\n",
       "      <td>10.0</td>\n",
       "    </tr>\n",
       "    <tr>\n",
       "      <th>1</th>\n",
       "      <td>11065</td>\n",
       "      <td>1</td>\n",
       "      <td>2950</td>\n",
       "      <td>2017-10-16</td>\n",
       "      <td>Approved</td>\n",
       "      <td>Giant Bicycles</td>\n",
       "      <td>Standard</td>\n",
       "      <td>medium</td>\n",
       "      <td>medium</td>\n",
       "      <td>1403.50</td>\n",
       "      <td>...</td>\n",
       "      <td>Kristos</td>\n",
       "      <td>Anthony</td>\n",
       "      <td>Male</td>\n",
       "      <td>19</td>\n",
       "      <td>1955-01-11</td>\n",
       "      <td>Software Engineer I</td>\n",
       "      <td>Financial Services</td>\n",
       "      <td>Mass Customer</td>\n",
       "      <td>Yes</td>\n",
       "      <td>10.0</td>\n",
       "    </tr>\n",
       "    <tr>\n",
       "      <th>2</th>\n",
       "      <td>18923</td>\n",
       "      <td>62</td>\n",
       "      <td>2950</td>\n",
       "      <td>2017-04-26</td>\n",
       "      <td>Approved</td>\n",
       "      <td>Solex</td>\n",
       "      <td>Standard</td>\n",
       "      <td>medium</td>\n",
       "      <td>medium</td>\n",
       "      <td>478.16</td>\n",
       "      <td>...</td>\n",
       "      <td>Kristos</td>\n",
       "      <td>Anthony</td>\n",
       "      <td>Male</td>\n",
       "      <td>19</td>\n",
       "      <td>1955-01-11</td>\n",
       "      <td>Software Engineer I</td>\n",
       "      <td>Financial Services</td>\n",
       "      <td>Mass Customer</td>\n",
       "      <td>Yes</td>\n",
       "      <td>10.0</td>\n",
       "    </tr>\n",
       "    <tr>\n",
       "      <th>3</th>\n",
       "      <td>2</td>\n",
       "      <td>3</td>\n",
       "      <td>3120</td>\n",
       "      <td>2017-05-21</td>\n",
       "      <td>Approved</td>\n",
       "      <td>Trek Bicycles</td>\n",
       "      <td>Standard</td>\n",
       "      <td>medium</td>\n",
       "      <td>large</td>\n",
       "      <td>2091.47</td>\n",
       "      <td>...</td>\n",
       "      <td>Lauree</td>\n",
       "      <td>O'Donnell</td>\n",
       "      <td>Female</td>\n",
       "      <td>89</td>\n",
       "      <td>1979-02-04</td>\n",
       "      <td>Clinical Specialist</td>\n",
       "      <td>Health</td>\n",
       "      <td>Mass Customer</td>\n",
       "      <td>Yes</td>\n",
       "      <td>10.0</td>\n",
       "    </tr>\n",
       "    <tr>\n",
       "      <th>4</th>\n",
       "      <td>6862</td>\n",
       "      <td>4</td>\n",
       "      <td>3120</td>\n",
       "      <td>2017-10-05</td>\n",
       "      <td>Approved</td>\n",
       "      <td>Giant Bicycles</td>\n",
       "      <td>Standard</td>\n",
       "      <td>high</td>\n",
       "      <td>medium</td>\n",
       "      <td>1129.13</td>\n",
       "      <td>...</td>\n",
       "      <td>Lauree</td>\n",
       "      <td>O'Donnell</td>\n",
       "      <td>Female</td>\n",
       "      <td>89</td>\n",
       "      <td>1979-02-04</td>\n",
       "      <td>Clinical Specialist</td>\n",
       "      <td>Health</td>\n",
       "      <td>Mass Customer</td>\n",
       "      <td>Yes</td>\n",
       "      <td>10.0</td>\n",
       "    </tr>\n",
       "  </tbody>\n",
       "</table>\n",
       "<p>5 rows × 26 columns</p>\n",
       "</div>"
      ],
      "text/plain": [
       "   transaction_id  product_id  customer_id transaction_date order_status  \\\n",
       "0               1           2         2950       2017-02-25     Approved   \n",
       "1           11065           1         2950       2017-10-16     Approved   \n",
       "2           18923          62         2950       2017-04-26     Approved   \n",
       "3               2           3         3120       2017-05-21     Approved   \n",
       "4            6862           4         3120       2017-10-05     Approved   \n",
       "\n",
       "            brand product_line product_class product_size  list_price  ...  \\\n",
       "0           Solex     Standard        medium       medium       71.49  ...   \n",
       "1  Giant Bicycles     Standard        medium       medium     1403.50  ...   \n",
       "2           Solex     Standard        medium       medium      478.16  ...   \n",
       "3   Trek Bicycles     Standard        medium        large     2091.47  ...   \n",
       "4  Giant Bicycles     Standard          high       medium     1129.13  ...   \n",
       "\n",
       "   first_name  last_name  gender past_3_years_bike_related_purchases  \\\n",
       "0     Kristos    Anthony    Male                                  19   \n",
       "1     Kristos    Anthony    Male                                  19   \n",
       "2     Kristos    Anthony    Male                                  19   \n",
       "3      Lauree  O'Donnell  Female                                  89   \n",
       "4      Lauree  O'Donnell  Female                                  89   \n",
       "\n",
       "         DOB            job_title job_industry_category wealth_segment  \\\n",
       "0 1955-01-11  Software Engineer I    Financial Services  Mass Customer   \n",
       "1 1955-01-11  Software Engineer I    Financial Services  Mass Customer   \n",
       "2 1955-01-11  Software Engineer I    Financial Services  Mass Customer   \n",
       "3 1979-02-04  Clinical Specialist                Health  Mass Customer   \n",
       "4 1979-02-04  Clinical Specialist                Health  Mass Customer   \n",
       "\n",
       "  owns_car  tenure  \n",
       "0      Yes    10.0  \n",
       "1      Yes    10.0  \n",
       "2      Yes    10.0  \n",
       "3      Yes    10.0  \n",
       "4      Yes    10.0  \n",
       "\n",
       "[5 rows x 26 columns]"
      ]
     },
     "execution_count": 34,
     "metadata": {},
     "output_type": "execute_result"
    }
   ],
   "source": [
    "newcustomerlist.head()"
   ]
  },
  {
   "cell_type": "code",
   "execution_count": 35,
   "id": "362b62a5",
   "metadata": {},
   "outputs": [
    {
     "data": {
      "text/plain": [
       "2183    14\n",
       "2476    14\n",
       "3326    13\n",
       "3232    13\n",
       "1302    13\n",
       "2464    13\n",
       "637     13\n",
       "1913    13\n",
       "2072    13\n",
       "2914    12\n",
       "Name: customer_id, dtype: int64"
      ]
     },
     "execution_count": 35,
     "metadata": {},
     "output_type": "execute_result"
    }
   ],
   "source": [
    "commocust=newcustomerlist['customer_id'].value_counts().head(10)\n",
    "commocust"
   ]
  },
  {
   "cell_type": "code",
   "execution_count": 36,
   "id": "2be6f869",
   "metadata": {},
   "outputs": [],
   "source": [
    "df=newcustomerlist.groupby('customer_id')\n"
   ]
  },
  {
   "cell_type": "code",
   "execution_count": 38,
   "id": "71fecf32",
   "metadata": {},
   "outputs": [
    {
     "data": {
      "image/png": "[encoded data removed]",
      "text/plain": [
       "<Figure size 720x360 with 1 Axes>"
      ]
     },
     "metadata": {
      "needs_background": "light"
     },
     "output_type": "display_data"
    }
   ],
   "source": [
    "#To see which brand has the highest count\n",
    "\n",
    "fig=plt.figure(figsize=(10,5))\n",
    "sns.countplot(y=\"brand\", data=newcustomerlist,color='Maroon',order=newcustomerlist[\"brand\"].value_counts().index)\n",
    "plt.title(\"Brands value counts\")\n",
    "plt.show()"
   ]
  },
  {
   "cell_type": "code",
   "execution_count": 39,
   "id": "7774d752",
   "metadata": {},
   "outputs": [
    {
     "data": {
      "image/png": "[encoded data removed]",
      "text/plain": [
       "<Figure size 720x360 with 1 Axes>"
      ]
     },
     "metadata": {
      "needs_background": "light"
     },
     "output_type": "display_data"
    }
   ],
   "source": [
    "#To see which state has more customers\n",
    "\n",
    "fig=plt.figure(figsize=(10,5))\n",
    "sns.countplot(y=\"state\", data=newcustomerlist,color='brown',order=newcustomerlist[\"state\"].value_counts().index)\n",
    "plt.title(\"States and count of customers\")\n",
    "plt.show()"
   ]
  },
  {
   "cell_type": "code",
   "execution_count": 40,
   "id": "bdf53405",
   "metadata": {},
   "outputs": [
    {
     "data": {
      "image/png": "[encoded data removed]",
      "text/plain": [
       "<Figure size 720x360 with 1 Axes>"
      ]
     },
     "metadata": {
      "needs_background": "light"
     },
     "output_type": "display_data"
    }
   ],
   "source": [
    "#To see which gender buys more\n",
    "\n",
    "fig=plt.figure(figsize=(10,5))\n",
    "sns.countplot(x=\"gender\", data=newcustomerlist,color='black')\n",
    "plt.title(\"Customer Gender count\")\n",
    "plt.show()"
   ]
  },
  {
   "cell_type": "code",
   "execution_count": 137,
   "id": "376dd798",
   "metadata": {},
   "outputs": [
    {
     "data": {
      "image/png": "[encoded data removed]",
      "text/plain": [
       "<Figure size 720x360 with 1 Axes>"
      ]
     },
     "metadata": {
      "needs_background": "light"
     },
     "output_type": "display_data"
    }
   ],
   "source": [
    "fig=plt.figure(figsize=(10,5))\n",
    "sns.countplot(y=\"wealth_segment\", data=newcustomerlist,color='Maroon',order=newcustomerlist[\"wealth_segment\"].value_counts().index)\n",
    "plt.show()"
   ]
  },
  {
   "cell_type": "code",
   "execution_count": 41,
   "id": "6fcde69a",
   "metadata": {},
   "outputs": [
    {
     "data": {
      "image/png": "[encoded data removed]",
      "text/plain": [
       "<Figure size 720x360 with 1 Axes>"
      ]
     },
     "metadata": {
      "needs_background": "light"
     },
     "output_type": "display_data"
    }
   ],
   "source": [
    "\n",
    "fig=plt.figure(figsize=(10,5))\n",
    "plt.bar(newcustomerlist['brand'],newcustomerlist['list_price'], label='Measure 1')\n",
    "plt.bar(newcustomerlist['brand'], newcustomerlist['standard_cost'], label='Measure 2')\n",
    "plt.title('Brand vs Standard cost and List price')\n",
    "plt.show()"
   ]
  },
  {
   "cell_type": "code",
   "execution_count": 42,
   "id": "5f309198",
   "metadata": {},
   "outputs": [
    {
     "data": {
      "image/png": "[encoded data removed]",
      "text/plain": [
       "<Figure size 720x360 with 1 Axes>"
      ]
     },
     "metadata": {
      "needs_background": "light"
     },
     "output_type": "display_data"
    }
   ],
   "source": [
    "fig=plt.figure(figsize=(10,5))\n",
    "plt.barh(newcustomerlist.brand,newcustomerlist.list_price,color='maroon')\n",
    "plt.show()"
   ]
  }
 ],
 "metadata": {
  "kernelspec": {
   "display_name": "Python 3 (ipykernel)",
   "language": "python",
   "name": "python3"
  },
  "language_info": {
   "codemirror_mode": {
    "name": "ipython",
    "version": 3
   },
   "file_extension": ".py",
   "mimetype": "text/x-python",
   "name": "python",
   "nbconvert_exporter": "python",
   "pygments_lexer": "ipython3",
   "version": "3.9.12"
  }
 },
 "nbformat": 4,
 "nbformat_minor": 5
}
